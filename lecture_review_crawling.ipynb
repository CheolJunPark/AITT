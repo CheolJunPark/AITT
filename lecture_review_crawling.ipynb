{
 "cells": [
  {
   "cell_type": "code",
   "execution_count": 30,
   "metadata": {},
   "outputs": [],
   "source": [
    "import pandas as pd\n",
    "import requests as rq\n",
    "import time\n",
    "import os\n",
    "\n",
    "import selenium\n",
    "from selenium import webdriver\n",
    "from selenium.webdriver.common.keys import Keys\n",
    "from bs4 import BeautifulSoup as bs"
   ]
  },
  {
   "cell_type": "code",
   "execution_count": 31,
   "metadata": {},
   "outputs": [],
   "source": [
    "#에브리타임 자동 로그인\n",
    "user_id = 'baejh0301'\n",
    "user_pw = 'vkfks77skql97!'\n",
    "\n",
    "options = webdriver.ChromeOptions()\n",
    "options.add_argument(\"no-sandbox\")\n",
    "options.add_argument(\"--disable-dev-shm-usage\")\n",
    "\n",
    "driver = webdriver.Chrome(executable_path='./chromedriver', options=options)\n",
    "driver.maximize_window()\n",
    "\n",
    "URL = 'https://everytime.kr'\n",
    "\n",
    "driver.get(URL)\n",
    "time.sleep(1)\n",
    "\n",
    "login_btn = driver.find_element_by_xpath('/html/body/aside/div[1]/a[2]')\n",
    "login_btn.click()\n",
    "time.sleep(1)\n",
    "\n",
    "input_id = driver.find_element_by_xpath('//*[@id=\"container\"]/form/p[1]/input').send_keys(user_id)\n",
    "input_pw = driver.find_element_by_xpath('//*[@id=\"container\"]/form/p[2]/input').send_keys(user_pw)\n",
    "\n",
    "time.sleep(1)\n",
    "\n",
    "enter_btn = driver.find_element_by_xpath('//*[@id=\"container\"]/form/p[3]/input')\n",
    "enter_btn.click()"
   ]
  },
  {
   "cell_type": "code",
   "execution_count": 32,
   "metadata": {},
   "outputs": [],
   "source": [
    "lec_URL = \"https://everytime.kr/lecture\"\n",
    "driver.get(lec_URL)\n",
    "\n",
    "body = driver.find_element_by_css_selector('body')\n",
    "for i in range(10):\n",
    "    for i in range(30):\n",
    "        body.send_keys(Keys.PAGE_DOWN)\n",
    "    time.sleep(0.25)"
   ]
  },
  {
   "cell_type": "code",
   "execution_count": 33,
   "metadata": {},
   "outputs": [],
   "source": [
    "board_html = driver.page_source\n",
    "board_bs = bs(board_html, 'html.parser')\n",
    "\n",
    "review_list = list()\n",
    "star_list = list()\n",
    "pos_mid_neg_list = list()\n",
    "\n",
    "review = board_bs.find_all(\"p\", {\"class\":\"text\"})\n",
    "for rev in review:\n",
    "    review_list.append(rev.text)\n",
    "    \n",
    "star = board_bs.find_all(\"span\", {\"class\":\"star\"})\n",
    "for s in star:\n",
    "    rating = str(s)[50:52]\n",
    "    if   rating == \"10\":\n",
    "        star_list.append(5)\n",
    "        pos_mid_neg_list.append(\"pos\")\n",
    "    elif rating == \"80\":\n",
    "        star_list.append(4)\n",
    "        pos_mid_neg_list.append(\"pos\")\n",
    "    elif rating == \"60\":\n",
    "        star_list.append(3)\n",
    "        pos_mid_neg_list.append(\"mid\")\n",
    "    elif rating == \"40\":\n",
    "        star_list.append(2)\n",
    "        pos_mid_neg_list.append(\"neg\")\n",
    "    elif rating == \"20\":\n",
    "        star_list.append(1)\n",
    "        pos_mid_neg_list.append(\"neg\")        "
   ]
  },
  {
   "cell_type": "code",
   "execution_count": 34,
   "metadata": {},
   "outputs": [],
   "source": [
    "reviews = pd.DataFrame({\n",
    "    'review': review_list,\n",
    "    'star': star_list,\n",
    "    'pos_neg': pos_mid_neg_list})"
   ]
  },
  {
   "cell_type": "code",
   "execution_count": 35,
   "metadata": {},
   "outputs": [
    {
     "data": {
      "text/html": [
       "<div>\n",
       "<style scoped>\n",
       "    .dataframe tbody tr th:only-of-type {\n",
       "        vertical-align: middle;\n",
       "    }\n",
       "\n",
       "    .dataframe tbody tr th {\n",
       "        vertical-align: top;\n",
       "    }\n",
       "\n",
       "    .dataframe thead th {\n",
       "        text-align: right;\n",
       "    }\n",
       "</style>\n",
       "<table border=\"1\" class=\"dataframe\">\n",
       "  <thead>\n",
       "    <tr style=\"text-align: right;\">\n",
       "      <th></th>\n",
       "      <th>review</th>\n",
       "      <th>star</th>\n",
       "      <th>pos_neg</th>\n",
       "    </tr>\n",
       "  </thead>\n",
       "  <tbody>\n",
       "    <tr>\n",
       "      <th>0</th>\n",
       "      <td>제일 좋았던 수업.. 시험공부는 강의 교안 보면서 개념 정리했더니 다 아는 문제 나...</td>\n",
       "      <td>5</td>\n",
       "      <td>pos</td>\n",
       "    </tr>\n",
       "    <tr>\n",
       "      <th>1</th>\n",
       "      <td>온오프 선택이라서 원하는대로 들을 수 있습니다시험은 별로 어렵지는 않고 수업 열심히...</td>\n",
       "      <td>5</td>\n",
       "      <td>pos</td>\n",
       "    </tr>\n",
       "    <tr>\n",
       "      <th>2</th>\n",
       "      <td>소설가 구보씨가 환생한줄 알았어요. 의식의 흐름 기법 장인이십니다. 뭘 배운다는 느...</td>\n",
       "      <td>2</td>\n",
       "      <td>neg</td>\n",
       "    </tr>\n",
       "    <tr>\n",
       "      <th>3</th>\n",
       "      <td>그냥저냥 무난하게 들을 만한 고전명저북클럽 강의책 안 좋아하면 힘들듯</td>\n",
       "      <td>3</td>\n",
       "      <td>mid</td>\n",
       "    </tr>\n",
       "    <tr>\n",
       "      <th>4</th>\n",
       "      <td>대학원 수업이라 저기의 졸업존문을 주체 맞게 논문을 쓰고 발표하면 됩니다.</td>\n",
       "      <td>5</td>\n",
       "      <td>pos</td>\n",
       "    </tr>\n",
       "  </tbody>\n",
       "</table>\n",
       "</div>"
      ],
      "text/plain": [
       "                                              review  star pos_neg\n",
       "0  제일 좋았던 수업.. 시험공부는 강의 교안 보면서 개념 정리했더니 다 아는 문제 나...     5     pos\n",
       "1  온오프 선택이라서 원하는대로 들을 수 있습니다시험은 별로 어렵지는 않고 수업 열심히...     5     pos\n",
       "2  소설가 구보씨가 환생한줄 알았어요. 의식의 흐름 기법 장인이십니다. 뭘 배운다는 느...     2     neg\n",
       "3             그냥저냥 무난하게 들을 만한 고전명저북클럽 강의책 안 좋아하면 힘들듯     3     mid\n",
       "4          대학원 수업이라 저기의 졸업존문을 주체 맞게 논문을 쓰고 발표하면 됩니다.     5     pos"
      ]
     },
     "execution_count": 35,
     "metadata": {},
     "output_type": "execute_result"
    }
   ],
   "source": [
    "reviews.head()"
   ]
  },
  {
   "cell_type": "code",
   "execution_count": 28,
   "metadata": {},
   "outputs": [],
   "source": [
    "if not os.path.exists('lec_review.csv'):\n",
    "    reviews.to_csv('lec_review.csv', index=False, mode='w', encoding='utf-8-sig')\n",
    "else:\n",
    "    reviews.to_csv('lec_review.csv', index=False, mode='a', encoding='utf-8-sig', header=False)"
   ]
  },
  {
   "cell_type": "code",
   "execution_count": null,
   "metadata": {},
   "outputs": [],
   "source": []
  }
 ],
 "metadata": {
  "kernelspec": {
   "display_name": "Python 3",
   "language": "python",
   "name": "python3"
  },
  "language_info": {
   "codemirror_mode": {
    "name": "ipython",
    "version": 3
   },
   "file_extension": ".py",
   "mimetype": "text/x-python",
   "name": "python",
   "nbconvert_exporter": "python",
   "pygments_lexer": "ipython3",
   "version": "3.8.3"
  }
 },
 "nbformat": 4,
 "nbformat_minor": 4
}
