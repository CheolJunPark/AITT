{
 "cells": [
  {
   "cell_type": "code",
   "execution_count": 78,
   "metadata": {},
   "outputs": [],
   "source": [
    "import pandas as pd\n",
    "import numpy as np\n",
    "\n",
    "import re\n",
    "import os\n",
    "import json\n",
    "\n",
    "from konlpy.tag import Okt"
   ]
  },
  {
   "cell_type": "markdown",
   "metadata": {},
   "source": [
    "# preprocessing"
   ]
  },
  {
   "cell_type": "code",
   "execution_count": 79,
   "metadata": {},
   "outputs": [],
   "source": [
    "whole_reviews = pd.read_csv('./lec_review.csv')\n",
    "sw_reviews = pd.read_csv('./sw_lec_review.csv')"
   ]
  },
  {
   "cell_type": "code",
   "execution_count": 80,
   "metadata": {},
   "outputs": [
    {
     "data": {
      "text/plain": [
       "(1400, 3)"
      ]
     },
     "metadata": {},
     "output_type": "display_data"
    },
    {
     "data": {
      "text/html": [
       "<div>\n",
       "<style scoped>\n",
       "    .dataframe tbody tr th:only-of-type {\n",
       "        vertical-align: middle;\n",
       "    }\n",
       "\n",
       "    .dataframe tbody tr th {\n",
       "        vertical-align: top;\n",
       "    }\n",
       "\n",
       "    .dataframe thead th {\n",
       "        text-align: right;\n",
       "    }\n",
       "</style>\n",
       "<table border=\"1\" class=\"dataframe\">\n",
       "  <thead>\n",
       "    <tr style=\"text-align: right;\">\n",
       "      <th></th>\n",
       "      <th>review</th>\n",
       "      <th>star</th>\n",
       "      <th>pos_neg</th>\n",
       "    </tr>\n",
       "  </thead>\n",
       "  <tbody>\n",
       "    <tr>\n",
       "      <th>0</th>\n",
       "      <td>전공 두개 합친만큼 신경써야 점수가 나오는 신기한 강의</td>\n",
       "      <td>2</td>\n",
       "      <td>neg</td>\n",
       "    </tr>\n",
       "    <tr>\n",
       "      <th>1</th>\n",
       "      <td>재수강하러갑니다.시험 대부분 문제가 주관식으로 나오는데 구절 빈칸넣기라던가 스토리보...</td>\n",
       "      <td>1</td>\n",
       "      <td>neg</td>\n",
       "    </tr>\n",
       "    <tr>\n",
       "      <th>2</th>\n",
       "      <td>성적 너그러이주심. 강의력은 조금부족하긴한데 설명잘해주심</td>\n",
       "      <td>3</td>\n",
       "      <td>mid</td>\n",
       "    </tr>\n",
       "    <tr>\n",
       "      <th>3</th>\n",
       "      <td>1. 수강 자체는 굉장히 편함2. 기말고사는 어려운데 패스 자체에 영향을 미치진 않는듯</td>\n",
       "      <td>4</td>\n",
       "      <td>pos</td>\n",
       "    </tr>\n",
       "    <tr>\n",
       "      <th>4</th>\n",
       "      <td>1. 교수님이 인도사 전공으로 사실상 쟁점인도사2. 과제가 소소하게 많지만 어렵거나...</td>\n",
       "      <td>5</td>\n",
       "      <td>pos</td>\n",
       "    </tr>\n",
       "  </tbody>\n",
       "</table>\n",
       "</div>"
      ],
      "text/plain": [
       "                                              review  star pos_neg\n",
       "0                     전공 두개 합친만큼 신경써야 점수가 나오는 신기한 강의     2     neg\n",
       "1  재수강하러갑니다.시험 대부분 문제가 주관식으로 나오는데 구절 빈칸넣기라던가 스토리보...     1     neg\n",
       "2                    성적 너그러이주심. 강의력은 조금부족하긴한데 설명잘해주심     3     mid\n",
       "3   1. 수강 자체는 굉장히 편함2. 기말고사는 어려운데 패스 자체에 영향을 미치진 않는듯     4     pos\n",
       "4  1. 교수님이 인도사 전공으로 사실상 쟁점인도사2. 과제가 소소하게 많지만 어렵거나...     5     pos"
      ]
     },
     "metadata": {},
     "output_type": "display_data"
    }
   ],
   "source": [
    "display(whole_reviews.shape)\n",
    "display(whole_reviews.head())"
   ]
  },
  {
   "cell_type": "code",
   "execution_count": 81,
   "metadata": {
    "scrolled": true
   },
   "outputs": [
    {
     "data": {
      "text/plain": [
       "(486, 3)"
      ]
     },
     "metadata": {},
     "output_type": "display_data"
    },
    {
     "data": {
      "text/html": [
       "<div>\n",
       "<style scoped>\n",
       "    .dataframe tbody tr th:only-of-type {\n",
       "        vertical-align: middle;\n",
       "    }\n",
       "\n",
       "    .dataframe tbody tr th {\n",
       "        vertical-align: top;\n",
       "    }\n",
       "\n",
       "    .dataframe thead th {\n",
       "        text-align: right;\n",
       "    }\n",
       "</style>\n",
       "<table border=\"1\" class=\"dataframe\">\n",
       "  <thead>\n",
       "    <tr style=\"text-align: right;\">\n",
       "      <th></th>\n",
       "      <th>과목명</th>\n",
       "      <th>교수명</th>\n",
       "      <th>강의평</th>\n",
       "    </tr>\n",
       "  </thead>\n",
       "  <tbody>\n",
       "    <tr>\n",
       "      <th>0</th>\n",
       "      <td>Capstone디자인(산학협력프로젝트)</td>\n",
       "      <td>권기학, 문현준</td>\n",
       "      <td>보고서가 많은편이긴한데학점은퍼주네요  굳</td>\n",
       "    </tr>\n",
       "    <tr>\n",
       "      <th>1</th>\n",
       "      <td>C프로그래밍및실습</td>\n",
       "      <td>김도년</td>\n",
       "      <td>수업끝나고 수업시간에 진행한 코드작성 못하면 남아서 될냐까지 해야함 그런거 빼고 낫...</td>\n",
       "    </tr>\n",
       "    <tr>\n",
       "      <th>2</th>\n",
       "      <td>C프로그래밍및실습</td>\n",
       "      <td>김도년</td>\n",
       "      <td>실습끝까지 남기시는 거 뺴곤 아주좋으심 너그러우신편</td>\n",
       "    </tr>\n",
       "    <tr>\n",
       "      <th>3</th>\n",
       "      <td>C프로그래밍및실습</td>\n",
       "      <td>김도년</td>\n",
       "      <td>교수님 엄청 친절하시고 귀여우셔요..과제만열심히 제때제때하면 되니까 그거만으로도 충...</td>\n",
       "    </tr>\n",
       "    <tr>\n",
       "      <th>4</th>\n",
       "      <td>C프로그래밍및실습</td>\n",
       "      <td>김도년</td>\n",
       "      <td>교수님 과제많아서 시험준비는 과제한거 복습하면됨. 귀여우심</td>\n",
       "    </tr>\n",
       "  </tbody>\n",
       "</table>\n",
       "</div>"
      ],
      "text/plain": [
       "                     과목명       교수명  \\\n",
       "0  Capstone디자인(산학협력프로젝트)  권기학, 문현준   \n",
       "1              C프로그래밍및실습       김도년   \n",
       "2              C프로그래밍및실습       김도년   \n",
       "3              C프로그래밍및실습       김도년   \n",
       "4              C프로그래밍및실습       김도년   \n",
       "\n",
       "                                                 강의평  \n",
       "0                             보고서가 많은편이긴한데학점은퍼주네요  굳  \n",
       "1  수업끝나고 수업시간에 진행한 코드작성 못하면 남아서 될냐까지 해야함 그런거 빼고 낫...  \n",
       "2                       실습끝까지 남기시는 거 뺴곤 아주좋으심 너그러우신편  \n",
       "3  교수님 엄청 친절하시고 귀여우셔요..과제만열심히 제때제때하면 되니까 그거만으로도 충...  \n",
       "4                   교수님 과제많아서 시험준비는 과제한거 복습하면됨. 귀여우심  "
      ]
     },
     "metadata": {},
     "output_type": "display_data"
    }
   ],
   "source": [
    "display(sw_reviews.shape)\n",
    "display(sw_reviews.head())"
   ]
  },
  {
   "cell_type": "code",
   "execution_count": 82,
   "metadata": {},
   "outputs": [
    {
     "data": {
      "text/html": [
       "<div>\n",
       "<style scoped>\n",
       "    .dataframe tbody tr th:only-of-type {\n",
       "        vertical-align: middle;\n",
       "    }\n",
       "\n",
       "    .dataframe tbody tr th {\n",
       "        vertical-align: top;\n",
       "    }\n",
       "\n",
       "    .dataframe thead th {\n",
       "        text-align: right;\n",
       "    }\n",
       "</style>\n",
       "<table border=\"1\" class=\"dataframe\">\n",
       "  <thead>\n",
       "    <tr style=\"text-align: right;\">\n",
       "      <th></th>\n",
       "      <th>lecture</th>\n",
       "      <th>professor</th>\n",
       "      <th>review</th>\n",
       "    </tr>\n",
       "  </thead>\n",
       "  <tbody>\n",
       "    <tr>\n",
       "      <th>0</th>\n",
       "      <td>Capstone디자인(산학협력프로젝트)</td>\n",
       "      <td>권기학, 문현준</td>\n",
       "      <td>보고서가 많은편이긴한데학점은퍼주네요  굳</td>\n",
       "    </tr>\n",
       "    <tr>\n",
       "      <th>1</th>\n",
       "      <td>C프로그래밍및실습</td>\n",
       "      <td>김도년</td>\n",
       "      <td>수업끝나고 수업시간에 진행한 코드작성 못하면 남아서 될냐까지 해야함 그런거 빼고 낫...</td>\n",
       "    </tr>\n",
       "    <tr>\n",
       "      <th>2</th>\n",
       "      <td>C프로그래밍및실습</td>\n",
       "      <td>김도년</td>\n",
       "      <td>실습끝까지 남기시는 거 뺴곤 아주좋으심 너그러우신편</td>\n",
       "    </tr>\n",
       "    <tr>\n",
       "      <th>3</th>\n",
       "      <td>C프로그래밍및실습</td>\n",
       "      <td>김도년</td>\n",
       "      <td>교수님 엄청 친절하시고 귀여우셔요..과제만열심히 제때제때하면 되니까 그거만으로도 충...</td>\n",
       "    </tr>\n",
       "    <tr>\n",
       "      <th>4</th>\n",
       "      <td>C프로그래밍및실습</td>\n",
       "      <td>김도년</td>\n",
       "      <td>교수님 과제많아서 시험준비는 과제한거 복습하면됨. 귀여우심</td>\n",
       "    </tr>\n",
       "  </tbody>\n",
       "</table>\n",
       "</div>"
      ],
      "text/plain": [
       "                 lecture professor  \\\n",
       "0  Capstone디자인(산학협력프로젝트)  권기학, 문현준   \n",
       "1              C프로그래밍및실습       김도년   \n",
       "2              C프로그래밍및실습       김도년   \n",
       "3              C프로그래밍및실습       김도년   \n",
       "4              C프로그래밍및실습       김도년   \n",
       "\n",
       "                                              review  \n",
       "0                             보고서가 많은편이긴한데학점은퍼주네요  굳  \n",
       "1  수업끝나고 수업시간에 진행한 코드작성 못하면 남아서 될냐까지 해야함 그런거 빼고 낫...  \n",
       "2                       실습끝까지 남기시는 거 뺴곤 아주좋으심 너그러우신편  \n",
       "3  교수님 엄청 친절하시고 귀여우셔요..과제만열심히 제때제때하면 되니까 그거만으로도 충...  \n",
       "4                   교수님 과제많아서 시험준비는 과제한거 복습하면됨. 귀여우심  "
      ]
     },
     "execution_count": 82,
     "metadata": {},
     "output_type": "execute_result"
    }
   ],
   "source": [
    "sw_reviews.columns = ['lecture', 'professor', 'review']\n",
    "sw_reviews.head()"
   ]
  },
  {
   "cell_type": "code",
   "execution_count": 83,
   "metadata": {},
   "outputs": [],
   "source": [
    "def text_preprocessing(review, okt, remove_stopwords=False, stop_words = []) -> str:\n",
    "    review_text = re.sub('[^가-힣ㄱ-ㅎㅏ-ㅣ\\\\s]', ' ', review)\n",
    "    text_morpheme = okt.morphs(review_text, stem=True)\n",
    "    \n",
    "    if remove_stopwords:\n",
    "        word_review = [token for token in text_morpheme if not token in stop_words]\n",
    "        \n",
    "    return word_review"
   ]
  },
  {
   "cell_type": "code",
   "execution_count": 84,
   "metadata": {},
   "outputs": [],
   "source": [
    "okt = Okt()\n",
    "stop_words = set(['은', '는', '이', '가', '하', '아', '것', '들', '의', '되',\n",
    "                 '수', '보', '주', '등', '한', '님', '도'])\n",
    "\n",
    "whole_clean_reviews = []\n",
    "sw_clean_reviews = []\n",
    "\n",
    "for review in whole_reviews['review']:\n",
    "    whole_clean_reviews.append(text_preprocessing(review, okt, remove_stopwords=True, stop_words=stop_words))\n",
    "    \n",
    "for review in sw_reviews['review']:\n",
    "    sw_clean_reviews.append(text_preprocessing(review, okt, remove_stopwords=True, stop_words=stop_words))"
   ]
  },
  {
   "cell_type": "code",
   "execution_count": 85,
   "metadata": {},
   "outputs": [
    {
     "name": "stdout",
     "output_type": "stream",
     "text": [
      "[['전공', '두', '개', '합치다', '신경', '써다', '점수', '나오다', '신기하다', '강의'], ['재수강', '하다', '가다', '시험', '대부분', '문제', '주관', '식', '으로', '나오다', '구절', '빈칸', '넣기', '라던가', '스토리', '보다는', '세다', '내용', '알다', '풀다'], ['성적', '너그럽다', '주심', '강의', '력', '조금', '부족하다', '설명', '잘해주다', '심'], ['수강', '자체', '굉장하다', '편하다', '기말고사', '어렵다', '패스', '자체', '에', '영향', '을', '미치다', '않다'], ['교수', '인도', '사', '전공', '으로', '사실', '상', '쟁점', '인', '도사', '과제', '소소하다', '많다', '어렵다', '시간', '많이', '오래', '과제', '아니다']]\n",
      "[['보고서', '많다', '편이', '기다', '학점', '퍼', '주네', '요', '굳다'], ['수업', '끝나다', '수업', '시간', '에', '진행', '코드', '작성', '못', '하다', '남아', '서', '되다', '까지', '하다', '함', '그렇다', '빼다', '낫밷'], ['실습', '끝', '까지', '남다', '거', '뺴곤', '아주', '좋다', '심', '너그럽다', '편'], ['교수', '엄청', '친절하다', '귀엽다', '과제', '만', '열심히', '제때', '제때', '면', '되다', '그거', '만으로도', '충분하다', '실력', '올리다', '있다'], ['교수', '과제', '많다', '시험', '준비', '과제', '거', '복습', '하다', '되다', '귀', '여우', '심']]\n"
     ]
    }
   ],
   "source": [
    "print(whole_clean_reviews[:5])\n",
    "print(sw_clean_reviews[:5])"
   ]
  },
  {
   "cell_type": "code",
   "execution_count": 86,
   "metadata": {},
   "outputs": [
    {
     "data": {
      "text/html": [
       "<div>\n",
       "<style scoped>\n",
       "    .dataframe tbody tr th:only-of-type {\n",
       "        vertical-align: middle;\n",
       "    }\n",
       "\n",
       "    .dataframe tbody tr th {\n",
       "        vertical-align: top;\n",
       "    }\n",
       "\n",
       "    .dataframe thead th {\n",
       "        text-align: right;\n",
       "    }\n",
       "</style>\n",
       "<table border=\"1\" class=\"dataframe\">\n",
       "  <thead>\n",
       "    <tr style=\"text-align: right;\">\n",
       "      <th></th>\n",
       "      <th>review</th>\n",
       "      <th>star</th>\n",
       "      <th>pos_neg</th>\n",
       "      <th>clean_review</th>\n",
       "    </tr>\n",
       "  </thead>\n",
       "  <tbody>\n",
       "    <tr>\n",
       "      <th>0</th>\n",
       "      <td>전공 두개 합친만큼 신경써야 점수가 나오는 신기한 강의</td>\n",
       "      <td>2</td>\n",
       "      <td>neg</td>\n",
       "      <td>[전공, 두, 개, 합치다, 신경, 써다, 점수, 나오다, 신기하다, 강의]</td>\n",
       "    </tr>\n",
       "    <tr>\n",
       "      <th>1</th>\n",
       "      <td>재수강하러갑니다.시험 대부분 문제가 주관식으로 나오는데 구절 빈칸넣기라던가 스토리보...</td>\n",
       "      <td>1</td>\n",
       "      <td>neg</td>\n",
       "      <td>[재수강, 하다, 가다, 시험, 대부분, 문제, 주관, 식, 으로, 나오다, 구절,...</td>\n",
       "    </tr>\n",
       "    <tr>\n",
       "      <th>2</th>\n",
       "      <td>성적 너그러이주심. 강의력은 조금부족하긴한데 설명잘해주심</td>\n",
       "      <td>3</td>\n",
       "      <td>mid</td>\n",
       "      <td>[성적, 너그럽다, 주심, 강의, 력, 조금, 부족하다, 설명, 잘해주다, 심]</td>\n",
       "    </tr>\n",
       "    <tr>\n",
       "      <th>3</th>\n",
       "      <td>1. 수강 자체는 굉장히 편함2. 기말고사는 어려운데 패스 자체에 영향을 미치진 않는듯</td>\n",
       "      <td>4</td>\n",
       "      <td>pos</td>\n",
       "      <td>[수강, 자체, 굉장하다, 편하다, 기말고사, 어렵다, 패스, 자체, 에, 영향, ...</td>\n",
       "    </tr>\n",
       "    <tr>\n",
       "      <th>4</th>\n",
       "      <td>1. 교수님이 인도사 전공으로 사실상 쟁점인도사2. 과제가 소소하게 많지만 어렵거나...</td>\n",
       "      <td>5</td>\n",
       "      <td>pos</td>\n",
       "      <td>[교수, 인도, 사, 전공, 으로, 사실, 상, 쟁점, 인, 도사, 과제, 소소하다...</td>\n",
       "    </tr>\n",
       "  </tbody>\n",
       "</table>\n",
       "</div>"
      ],
      "text/plain": [
       "                                              review  star pos_neg  \\\n",
       "0                     전공 두개 합친만큼 신경써야 점수가 나오는 신기한 강의     2     neg   \n",
       "1  재수강하러갑니다.시험 대부분 문제가 주관식으로 나오는데 구절 빈칸넣기라던가 스토리보...     1     neg   \n",
       "2                    성적 너그러이주심. 강의력은 조금부족하긴한데 설명잘해주심     3     mid   \n",
       "3   1. 수강 자체는 굉장히 편함2. 기말고사는 어려운데 패스 자체에 영향을 미치진 않는듯     4     pos   \n",
       "4  1. 교수님이 인도사 전공으로 사실상 쟁점인도사2. 과제가 소소하게 많지만 어렵거나...     5     pos   \n",
       "\n",
       "                                        clean_review  \n",
       "0         [전공, 두, 개, 합치다, 신경, 써다, 점수, 나오다, 신기하다, 강의]  \n",
       "1  [재수강, 하다, 가다, 시험, 대부분, 문제, 주관, 식, 으로, 나오다, 구절,...  \n",
       "2       [성적, 너그럽다, 주심, 강의, 력, 조금, 부족하다, 설명, 잘해주다, 심]  \n",
       "3  [수강, 자체, 굉장하다, 편하다, 기말고사, 어렵다, 패스, 자체, 에, 영향, ...  \n",
       "4  [교수, 인도, 사, 전공, 으로, 사실, 상, 쟁점, 인, 도사, 과제, 소소하다...  "
      ]
     },
     "metadata": {},
     "output_type": "display_data"
    },
    {
     "data": {
      "text/html": [
       "<div>\n",
       "<style scoped>\n",
       "    .dataframe tbody tr th:only-of-type {\n",
       "        vertical-align: middle;\n",
       "    }\n",
       "\n",
       "    .dataframe tbody tr th {\n",
       "        vertical-align: top;\n",
       "    }\n",
       "\n",
       "    .dataframe thead th {\n",
       "        text-align: right;\n",
       "    }\n",
       "</style>\n",
       "<table border=\"1\" class=\"dataframe\">\n",
       "  <thead>\n",
       "    <tr style=\"text-align: right;\">\n",
       "      <th></th>\n",
       "      <th>lecture</th>\n",
       "      <th>professor</th>\n",
       "      <th>review</th>\n",
       "      <th>clean_review</th>\n",
       "    </tr>\n",
       "  </thead>\n",
       "  <tbody>\n",
       "    <tr>\n",
       "      <th>0</th>\n",
       "      <td>Capstone디자인(산학협력프로젝트)</td>\n",
       "      <td>권기학, 문현준</td>\n",
       "      <td>보고서가 많은편이긴한데학점은퍼주네요  굳</td>\n",
       "      <td>[보고서, 많다, 편이, 기다, 학점, 퍼, 주네, 요, 굳다]</td>\n",
       "    </tr>\n",
       "    <tr>\n",
       "      <th>1</th>\n",
       "      <td>C프로그래밍및실습</td>\n",
       "      <td>김도년</td>\n",
       "      <td>수업끝나고 수업시간에 진행한 코드작성 못하면 남아서 될냐까지 해야함 그런거 빼고 낫...</td>\n",
       "      <td>[수업, 끝나다, 수업, 시간, 에, 진행, 코드, 작성, 못, 하다, 남아, 서,...</td>\n",
       "    </tr>\n",
       "    <tr>\n",
       "      <th>2</th>\n",
       "      <td>C프로그래밍및실습</td>\n",
       "      <td>김도년</td>\n",
       "      <td>실습끝까지 남기시는 거 뺴곤 아주좋으심 너그러우신편</td>\n",
       "      <td>[실습, 끝, 까지, 남다, 거, 뺴곤, 아주, 좋다, 심, 너그럽다, 편]</td>\n",
       "    </tr>\n",
       "    <tr>\n",
       "      <th>3</th>\n",
       "      <td>C프로그래밍및실습</td>\n",
       "      <td>김도년</td>\n",
       "      <td>교수님 엄청 친절하시고 귀여우셔요..과제만열심히 제때제때하면 되니까 그거만으로도 충...</td>\n",
       "      <td>[교수, 엄청, 친절하다, 귀엽다, 과제, 만, 열심히, 제때, 제때, 면, 되다,...</td>\n",
       "    </tr>\n",
       "    <tr>\n",
       "      <th>4</th>\n",
       "      <td>C프로그래밍및실습</td>\n",
       "      <td>김도년</td>\n",
       "      <td>교수님 과제많아서 시험준비는 과제한거 복습하면됨. 귀여우심</td>\n",
       "      <td>[교수, 과제, 많다, 시험, 준비, 과제, 거, 복습, 하다, 되다, 귀, 여우, 심]</td>\n",
       "    </tr>\n",
       "  </tbody>\n",
       "</table>\n",
       "</div>"
      ],
      "text/plain": [
       "                 lecture professor  \\\n",
       "0  Capstone디자인(산학협력프로젝트)  권기학, 문현준   \n",
       "1              C프로그래밍및실습       김도년   \n",
       "2              C프로그래밍및실습       김도년   \n",
       "3              C프로그래밍및실습       김도년   \n",
       "4              C프로그래밍및실습       김도년   \n",
       "\n",
       "                                              review  \\\n",
       "0                             보고서가 많은편이긴한데학점은퍼주네요  굳   \n",
       "1  수업끝나고 수업시간에 진행한 코드작성 못하면 남아서 될냐까지 해야함 그런거 빼고 낫...   \n",
       "2                       실습끝까지 남기시는 거 뺴곤 아주좋으심 너그러우신편   \n",
       "3  교수님 엄청 친절하시고 귀여우셔요..과제만열심히 제때제때하면 되니까 그거만으로도 충...   \n",
       "4                   교수님 과제많아서 시험준비는 과제한거 복습하면됨. 귀여우심   \n",
       "\n",
       "                                        clean_review  \n",
       "0                [보고서, 많다, 편이, 기다, 학점, 퍼, 주네, 요, 굳다]  \n",
       "1  [수업, 끝나다, 수업, 시간, 에, 진행, 코드, 작성, 못, 하다, 남아, 서,...  \n",
       "2         [실습, 끝, 까지, 남다, 거, 뺴곤, 아주, 좋다, 심, 너그럽다, 편]  \n",
       "3  [교수, 엄청, 친절하다, 귀엽다, 과제, 만, 열심히, 제때, 제때, 면, 되다,...  \n",
       "4  [교수, 과제, 많다, 시험, 준비, 과제, 거, 복습, 하다, 되다, 귀, 여우, 심]  "
      ]
     },
     "metadata": {},
     "output_type": "display_data"
    }
   ],
   "source": [
    "whole_reviews['clean_review'] = whole_clean_reviews\n",
    "sw_reviews['clean_review'] = sw_clean_reviews\n",
    "\n",
    "display(whole_reviews.head())\n",
    "display(sw_reviews.head())"
   ]
  },
  {
   "cell_type": "code",
   "execution_count": 87,
   "metadata": {},
   "outputs": [
    {
     "data": {
      "text/html": [
       "<div>\n",
       "<style scoped>\n",
       "    .dataframe tbody tr th:only-of-type {\n",
       "        vertical-align: middle;\n",
       "    }\n",
       "\n",
       "    .dataframe tbody tr th {\n",
       "        vertical-align: top;\n",
       "    }\n",
       "\n",
       "    .dataframe thead th {\n",
       "        text-align: right;\n",
       "    }\n",
       "</style>\n",
       "<table border=\"1\" class=\"dataframe\">\n",
       "  <thead>\n",
       "    <tr style=\"text-align: right;\">\n",
       "      <th></th>\n",
       "      <th>review</th>\n",
       "      <th>star</th>\n",
       "      <th>pos_neg</th>\n",
       "      <th>clean_review</th>\n",
       "    </tr>\n",
       "  </thead>\n",
       "  <tbody>\n",
       "    <tr>\n",
       "      <th>0</th>\n",
       "      <td>전공 두개 합친만큼 신경써야 점수가 나오는 신기한 강의</td>\n",
       "      <td>2</td>\n",
       "      <td>neg</td>\n",
       "      <td>[전공, 두, 개, 합치다, 신경, 써다, 점수, 나오다, 신기하다, 강의]</td>\n",
       "    </tr>\n",
       "    <tr>\n",
       "      <th>1</th>\n",
       "      <td>재수강하러갑니다.시험 대부분 문제가 주관식으로 나오는데 구절 빈칸넣기라던가 스토리보...</td>\n",
       "      <td>1</td>\n",
       "      <td>neg</td>\n",
       "      <td>[재수강, 하다, 가다, 시험, 대부분, 문제, 주관, 식, 으로, 나오다, 구절,...</td>\n",
       "    </tr>\n",
       "    <tr>\n",
       "      <th>2</th>\n",
       "      <td>성적 너그러이주심. 강의력은 조금부족하긴한데 설명잘해주심</td>\n",
       "      <td>3</td>\n",
       "      <td>neg</td>\n",
       "      <td>[성적, 너그럽다, 주심, 강의, 력, 조금, 부족하다, 설명, 잘해주다, 심]</td>\n",
       "    </tr>\n",
       "    <tr>\n",
       "      <th>3</th>\n",
       "      <td>1. 수강 자체는 굉장히 편함2. 기말고사는 어려운데 패스 자체에 영향을 미치진 않는듯</td>\n",
       "      <td>4</td>\n",
       "      <td>pos</td>\n",
       "      <td>[수강, 자체, 굉장하다, 편하다, 기말고사, 어렵다, 패스, 자체, 에, 영향, ...</td>\n",
       "    </tr>\n",
       "    <tr>\n",
       "      <th>4</th>\n",
       "      <td>1. 교수님이 인도사 전공으로 사실상 쟁점인도사2. 과제가 소소하게 많지만 어렵거나...</td>\n",
       "      <td>5</td>\n",
       "      <td>pos</td>\n",
       "      <td>[교수, 인도, 사, 전공, 으로, 사실, 상, 쟁점, 인, 도사, 과제, 소소하다...</td>\n",
       "    </tr>\n",
       "  </tbody>\n",
       "</table>\n",
       "</div>"
      ],
      "text/plain": [
       "                                              review  star pos_neg  \\\n",
       "0                     전공 두개 합친만큼 신경써야 점수가 나오는 신기한 강의     2     neg   \n",
       "1  재수강하러갑니다.시험 대부분 문제가 주관식으로 나오는데 구절 빈칸넣기라던가 스토리보...     1     neg   \n",
       "2                    성적 너그러이주심. 강의력은 조금부족하긴한데 설명잘해주심     3     neg   \n",
       "3   1. 수강 자체는 굉장히 편함2. 기말고사는 어려운데 패스 자체에 영향을 미치진 않는듯     4     pos   \n",
       "4  1. 교수님이 인도사 전공으로 사실상 쟁점인도사2. 과제가 소소하게 많지만 어렵거나...     5     pos   \n",
       "\n",
       "                                        clean_review  \n",
       "0         [전공, 두, 개, 합치다, 신경, 써다, 점수, 나오다, 신기하다, 강의]  \n",
       "1  [재수강, 하다, 가다, 시험, 대부분, 문제, 주관, 식, 으로, 나오다, 구절,...  \n",
       "2       [성적, 너그럽다, 주심, 강의, 력, 조금, 부족하다, 설명, 잘해주다, 심]  \n",
       "3  [수강, 자체, 굉장하다, 편하다, 기말고사, 어렵다, 패스, 자체, 에, 영향, ...  \n",
       "4  [교수, 인도, 사, 전공, 으로, 사실, 상, 쟁점, 인, 도사, 과제, 소소하다...  "
      ]
     },
     "execution_count": 87,
     "metadata": {},
     "output_type": "execute_result"
    }
   ],
   "source": [
    "# pos_neg: mid change to neg\n",
    "whole_reviews.replace({'pos_neg', 'mid'}, 'neg', inplace=True)\n",
    "whole_reviews.head()"
   ]
  },
  {
   "cell_type": "code",
   "execution_count": 88,
   "metadata": {},
   "outputs": [
    {
     "data": {
      "text/html": [
       "<div>\n",
       "<style scoped>\n",
       "    .dataframe tbody tr th:only-of-type {\n",
       "        vertical-align: middle;\n",
       "    }\n",
       "\n",
       "    .dataframe tbody tr th {\n",
       "        vertical-align: top;\n",
       "    }\n",
       "\n",
       "    .dataframe thead th {\n",
       "        text-align: right;\n",
       "    }\n",
       "</style>\n",
       "<table border=\"1\" class=\"dataframe\">\n",
       "  <thead>\n",
       "    <tr style=\"text-align: right;\">\n",
       "      <th></th>\n",
       "      <th>review</th>\n",
       "      <th>star</th>\n",
       "      <th>pos_neg</th>\n",
       "      <th>clean_review</th>\n",
       "    </tr>\n",
       "  </thead>\n",
       "  <tbody>\n",
       "    <tr>\n",
       "      <th>0</th>\n",
       "      <td>전공 두개 합친만큼 신경써야 점수가 나오는 신기한 강의</td>\n",
       "      <td>2</td>\n",
       "      <td>0</td>\n",
       "      <td>[전공, 두, 개, 합치다, 신경, 써다, 점수, 나오다, 신기하다, 강의]</td>\n",
       "    </tr>\n",
       "    <tr>\n",
       "      <th>1</th>\n",
       "      <td>재수강하러갑니다.시험 대부분 문제가 주관식으로 나오는데 구절 빈칸넣기라던가 스토리보...</td>\n",
       "      <td>1</td>\n",
       "      <td>0</td>\n",
       "      <td>[재수강, 하다, 가다, 시험, 대부분, 문제, 주관, 식, 으로, 나오다, 구절,...</td>\n",
       "    </tr>\n",
       "    <tr>\n",
       "      <th>2</th>\n",
       "      <td>성적 너그러이주심. 강의력은 조금부족하긴한데 설명잘해주심</td>\n",
       "      <td>3</td>\n",
       "      <td>0</td>\n",
       "      <td>[성적, 너그럽다, 주심, 강의, 력, 조금, 부족하다, 설명, 잘해주다, 심]</td>\n",
       "    </tr>\n",
       "    <tr>\n",
       "      <th>3</th>\n",
       "      <td>1. 수강 자체는 굉장히 편함2. 기말고사는 어려운데 패스 자체에 영향을 미치진 않는듯</td>\n",
       "      <td>4</td>\n",
       "      <td>1</td>\n",
       "      <td>[수강, 자체, 굉장하다, 편하다, 기말고사, 어렵다, 패스, 자체, 에, 영향, ...</td>\n",
       "    </tr>\n",
       "    <tr>\n",
       "      <th>4</th>\n",
       "      <td>1. 교수님이 인도사 전공으로 사실상 쟁점인도사2. 과제가 소소하게 많지만 어렵거나...</td>\n",
       "      <td>5</td>\n",
       "      <td>1</td>\n",
       "      <td>[교수, 인도, 사, 전공, 으로, 사실, 상, 쟁점, 인, 도사, 과제, 소소하다...</td>\n",
       "    </tr>\n",
       "  </tbody>\n",
       "</table>\n",
       "</div>"
      ],
      "text/plain": [
       "                                              review  star  pos_neg  \\\n",
       "0                     전공 두개 합친만큼 신경써야 점수가 나오는 신기한 강의     2        0   \n",
       "1  재수강하러갑니다.시험 대부분 문제가 주관식으로 나오는데 구절 빈칸넣기라던가 스토리보...     1        0   \n",
       "2                    성적 너그러이주심. 강의력은 조금부족하긴한데 설명잘해주심     3        0   \n",
       "3   1. 수강 자체는 굉장히 편함2. 기말고사는 어려운데 패스 자체에 영향을 미치진 않는듯     4        1   \n",
       "4  1. 교수님이 인도사 전공으로 사실상 쟁점인도사2. 과제가 소소하게 많지만 어렵거나...     5        1   \n",
       "\n",
       "                                        clean_review  \n",
       "0         [전공, 두, 개, 합치다, 신경, 써다, 점수, 나오다, 신기하다, 강의]  \n",
       "1  [재수강, 하다, 가다, 시험, 대부분, 문제, 주관, 식, 으로, 나오다, 구절,...  \n",
       "2       [성적, 너그럽다, 주심, 강의, 력, 조금, 부족하다, 설명, 잘해주다, 심]  \n",
       "3  [수강, 자체, 굉장하다, 편하다, 기말고사, 어렵다, 패스, 자체, 에, 영향, ...  \n",
       "4  [교수, 인도, 사, 전공, 으로, 사실, 상, 쟁점, 인, 도사, 과제, 소소하다...  "
      ]
     },
     "execution_count": 88,
     "metadata": {},
     "output_type": "execute_result"
    }
   ],
   "source": [
    "from sklearn.preprocessing import LabelEncoder\n",
    "\n",
    "le = LabelEncoder()\n",
    "whole_reviews['pos_neg'] = le.fit_transform(whole_reviews['pos_neg'])\n",
    "whole_reviews.head()"
   ]
  },
  {
   "cell_type": "code",
   "execution_count": 89,
   "metadata": {},
   "outputs": [],
   "source": [
    "from sklearn.model_selection import train_test_split\n",
    "X_train, X_test, y_train, y_test = train_test_split(whole_reviews['clean_review'], whole_reviews['pos_neg'],\n",
    "                                                    test_size=0.2, random_state=42)"
   ]
  },
  {
   "cell_type": "code",
   "execution_count": 90,
   "metadata": {},
   "outputs": [],
   "source": [
    "from tensorflow.python.keras.preprocessing.sequence import pad_sequences\n",
    "from tensorflow.python.keras.preprocessing.text import Tokenizer\n",
    "\n",
    "clean_train_reviews = list(X_train)\n",
    "clean_test_reviews = list(X_test)\n",
    "\n",
    "tokenizer = Tokenizer()\n",
    "tokenizer.fit_on_texts(clean_train_reviews)\n",
    "\n",
    "X_train_sequences = tokenizer.texts_to_sequences(clean_train_reviews)\n",
    "X_test_sequences = tokenizer.texts_to_sequences(clean_test_reviews)\n",
    "test_sequences = tokenizer.texts_to_sequences(sw_clean_reviews)"
   ]
  },
  {
   "cell_type": "code",
   "execution_count": 91,
   "metadata": {},
   "outputs": [],
   "source": [
    "word_vocab = tokenizer.word_index\n",
    "\n",
    "MAX_SEQUENCE_LENGTH = 125 # mean\n",
    "\n",
    "train_inputs = pad_sequences(X_train_sequences, maxlen=MAX_SEQUENCE_LENGTH, padding='post')\n",
    "train_labels = np.array(y_train)\n",
    "\n",
    "test_inputs = pad_sequences(X_test_sequences, maxlen=MAX_SEQUENCE_LENGTH, padding='post')\n",
    "test_labels = np.array(y_test)"
   ]
  },
  {
   "cell_type": "code",
   "execution_count": 92,
   "metadata": {},
   "outputs": [],
   "source": [
    "DATA_IN_PATH = './'\n",
    "TRAIN_INPUT_DATA = 'train_input.npy'\n",
    "TRAIN_LABEL_DATA = 'train_label.npy'\n",
    "TEST_INPUT_DATA = 'test_input.npy'\n",
    "TEST_LABEL_DATA = 'test_label.npy'\n",
    "DATA_CONFIGS = 'data_configs.json'\n",
    "\n",
    "data_configs = {}\n",
    "data_configs['vocab'] = word_vocab\n",
    "data_configs['vocab_size'] = len(word_vocab) + 1\n",
    "\n",
    "np.save(open(DATA_IN_PATH + TRAIN_INPUT_DATA, 'wb'), train_inputs)\n",
    "np.save(open(DATA_IN_PATH + TRAIN_LABEL_DATA, 'wb'), train_labels)\n",
    "\n",
    "np.save(open(DATA_IN_PATH + TEST_INPUT_DATA, 'wb'), test_inputs)\n",
    "np.save(open(DATA_IN_PATH + TEST_LABEL_DATA, 'wb'), test_labels)\n",
    "\n",
    "json.dump(data_configs, open(DATA_IN_PATH + DATA_CONFIGS, 'w'), ensure_ascii=False)"
   ]
  },
  {
   "cell_type": "markdown",
   "metadata": {},
   "source": [
    "# DL model"
   ]
  },
  {
   "cell_type": "code",
   "execution_count": 93,
   "metadata": {},
   "outputs": [],
   "source": [
    "import tensorflow as tf\n",
    "from tensorflow.keras.preprocessing.sequence import pad_sequences\n",
    "from tensorflow.keras.callbacks import EarlyStopping, ModelCheckpoint\n",
    "from tensorflow.keras import layers\n",
    "\n",
    "import matplotlib.pyplot as plt\n",
    "%matplotlib inline\n",
    "\n",
    "from tqdm import tqdm"
   ]
  },
  {
   "cell_type": "code",
   "execution_count": 94,
   "metadata": {},
   "outputs": [],
   "source": [
    "DATA_OUT_PATH = './'\n",
    "INPUT_TRAIN_DATA = 'train_input.npy'\n",
    "LABEL_TRAIN_DATA = 'train_label.npy'\n",
    "INPUT_TEST_DATA = 'test_input.npy'\n",
    "LABEL_TEST_DATA = 'test_label.npy'\n",
    "DATA_CONFIGS = 'data_configs.json'\n",
    "\n",
    "train_input = np.load(open(DATA_IN_PATH + INPUT_TRAIN_DATA, 'rb'), allow_pickle=True)\n",
    "train_input = pad_sequences(train_input, maxlen=train_input.shape[1])\n",
    "\n",
    "train_label = np.load(open(DATA_IN_PATH + LABEL_TRAIN_DATA, 'rb'), allow_pickle=True)\n",
    "prepro_configs = json.load(open(DATA_IN_PATH + DATA_CONFIGS))"
   ]
  },
  {
   "cell_type": "code",
   "execution_count": 95,
   "metadata": {},
   "outputs": [],
   "source": [
    "model_name = 'cnn_classifier'\n",
    "BATCH_SIZE = 512\n",
    "NUM_EPOCHS = 3\n",
    "VALID_SPLIT = 0.1\n",
    "MAX_LEN = train_input.shape[1]\n",
    "\n",
    "kargs = {'model_name': model_name, \n",
    "         'vocab_size': prepro_configs['vocab_size'], \n",
    "         'embedding_size': 128, \n",
    "         'num_filters': 100, \n",
    "         'dropout_rate': 0.5, \n",
    "         'hidden_dimension': 250, \n",
    "         'output_dimension': 1}"
   ]
  },
  {
   "cell_type": "code",
   "execution_count": 96,
   "metadata": {},
   "outputs": [],
   "source": [
    "from tensorflow.keras.layers import Dense, Dropout, Embedding\n",
    "from tensorflow.keras.layers import Conv1D, GlobalMaxPooling1D\n",
    "from tensorflow.keras.constraints import MaxNorm\n",
    "\n",
    "class CNNClassifier(tf.keras.Model):\n",
    "    def __init__(self, **kargs):\n",
    "        super(CNNClassifier, self).__init__(name=kargs['model_name'])\n",
    "        self.embedding = Embedding(input_dim=kargs['vocab_size'],\n",
    "                                  output_dim=kargs['embedding_size'])\n",
    "        self.conv_list = [Conv1D(filters=kargs['num_filters'],\n",
    "                                kernel_size=kernel_size,\n",
    "                                padding='valid',\n",
    "                                activation='relu',\n",
    "                                kernel_constraint=MaxNorm(max_value=3.))\n",
    "                         for kernel_size in [3,4,5]]\n",
    "        self.max_pooling = GlobalMaxPooling1D()\n",
    "        self.dropout = Dropout(kargs['dropout_rate'])\n",
    "        self.fc1 = Dense(units=kargs['hidden_dimension'],\n",
    "                        activation='relu', kernel_constraint=MaxNorm(max_value=3.))\n",
    "        self.fc2 = Dense(units=kargs['output_dimension'],\n",
    "                        activation='sigmoid', kernel_constraint=MaxNorm(max_value=3.))\n",
    "        \n",
    "    def call(self, x):\n",
    "        x = self.embedding(x)\n",
    "        x = self.dropout(x)\n",
    "        x = tf.concat([self.max_pooling(conv(x)) for conv in self.conv_list], axis=-1)\n",
    "        x = self.fc1(x)\n",
    "        x = self.fc2(x)\n",
    "        \n",
    "        return x"
   ]
  },
  {
   "cell_type": "code",
   "execution_count": 97,
   "metadata": {},
   "outputs": [],
   "source": [
    "clf = CNNClassifier(**kargs)\n",
    "\n",
    "clf.compile(optimizer=tf.keras.optimizers.Adam(), \n",
    "            loss=tf.keras.losses.BinaryCrossentropy(), \n",
    "            metrics=[tf.keras.metrics.BinaryAccuracy(name='Accuracy')])"
   ]
  },
  {
   "cell_type": "code",
   "execution_count": 98,
   "metadata": {},
   "outputs": [
    {
     "name": "stdout",
     "output_type": "stream",
     "text": [
      "./cnn_classifier -- Folder already exists \n",
      "\n",
      "Epoch 1/3\n",
      "2/2 [==============================] - ETA: 0s - loss: 0.6648 - Accuracy: 0.6587WARNING:tensorflow:Early stopping conditioned on metric `val_accuracy` which is not available. Available metrics are: loss,Accuracy,val_loss,val_Accuracy\n",
      "WARNING:tensorflow:Can save best model only with val_accuracy available, skipping.\n",
      "2/2 [==============================] - 1s 379ms/step - loss: 0.6648 - Accuracy: 0.6587 - val_loss: 0.6347 - val_Accuracy: 0.6786\n",
      "Epoch 2/3\n",
      "2/2 [==============================] - ETA: 0s - loss: 0.6430 - Accuracy: 0.6587WARNING:tensorflow:Early stopping conditioned on metric `val_accuracy` which is not available. Available metrics are: loss,Accuracy,val_loss,val_Accuracy\n",
      "WARNING:tensorflow:Can save best model only with val_accuracy available, skipping.\n",
      "2/2 [==============================] - 0s 219ms/step - loss: 0.6430 - Accuracy: 0.6587 - val_loss: 0.6275 - val_Accuracy: 0.6786\n",
      "Epoch 3/3\n",
      "2/2 [==============================] - ETA: 0s - loss: 0.6435 - Accuracy: 0.6587WARNING:tensorflow:Early stopping conditioned on metric `val_accuracy` which is not available. Available metrics are: loss,Accuracy,val_loss,val_Accuracy\n",
      "WARNING:tensorflow:Can save best model only with val_accuracy available, skipping.\n",
      "2/2 [==============================] - 0s 224ms/step - loss: 0.6435 - Accuracy: 0.6587 - val_loss: 0.6282 - val_Accuracy: 0.6786\n"
     ]
    }
   ],
   "source": [
    "# overfitting 방지\n",
    "earlystop_callback = EarlyStopping(monitor='val_accuracy', min_delta=0.0001, patience=1)\n",
    "\n",
    "checkpoint_path = DATA_OUT_PATH + model_name + '/weights.h5'\n",
    "checkpoint_dir = os.path.dirname(checkpoint_path)\n",
    "\n",
    "if os.path.exists(checkpoint_dir):\n",
    "    print(\"{} -- Folder already exists \\n\".format(checkpoint_dir))\n",
    "else:\n",
    "    os.makedirs(checkpoint_dir, exist_ok=True)\n",
    "    print(\"{} -- Folder create complete \\n\".format(checkpoint_dir))\n",
    "    \n",
    "cp_callback = ModelCheckpoint(\n",
    "    checkpoint_path, monitor='val_accuracy', verbose=1, save_best_only=True, save_weights_only=True)\n",
    "\n",
    "# 모델 학습\n",
    "history = clf.fit(train_input, train_label, batch_size=BATCH_SIZE, epochs=NUM_EPOCHS,\n",
    "                  validation_split=VALID_SPLIT, callbacks=[earlystop_callback, cp_callback])\n",
    "\n",
    "clf.save_weights(checkpoint_path)"
   ]
  },
  {
   "cell_type": "code",
   "execution_count": 99,
   "metadata": {},
   "outputs": [],
   "source": [
    "def plot_graphs(history, metric):\n",
    "    plt.plot(history.history[metric])\n",
    "    plt.plot(history.history['val_'+metric], '')\n",
    "    plt.xlabel(\"Epochs\")\n",
    "    plt.ylabel(metric)\n",
    "    plt.legend([metric, 'val_'+metric])\n",
    "    plt.show()"
   ]
  },
  {
   "cell_type": "code",
   "execution_count": 100,
   "metadata": {},
   "outputs": [
    {
     "data": {
      "image/png": "[encoded data removed]",
      "text/plain": [
       "<Figure size 432x288 with 1 Axes>"
      ]
     },
     "metadata": {
      "needs_background": "light"
     },
     "output_type": "display_data"
    }
   ],
   "source": [
    "plot_graphs(history, 'loss')"
   ]
  },
  {
   "cell_type": "code",
   "execution_count": 101,
   "metadata": {},
   "outputs": [],
   "source": [
    "test_input = np.load(open(DATA_IN_PATH + INPUT_TEST_DATA, 'rb'), allow_pickle=True)\n",
    "test_input = pad_sequences(test_input, maxlen=test_input.shape[1])\n",
    "test_label = np.load(open(DATA_IN_PATH + LABEL_TEST_DATA, 'rb'), allow_pickle=True)"
   ]
  },
  {
   "cell_type": "code",
   "execution_count": 102,
   "metadata": {},
   "outputs": [
    {
     "name": "stdout",
     "output_type": "stream",
     "text": [
      "9/9 [==============================] - 0s 8ms/step - loss: 0.6301 - Accuracy: 0.6786\n"
     ]
    },
    {
     "data": {
      "text/plain": [
       "[0.6301306486129761, 0.6785714030265808]"
      ]
     },
     "execution_count": 102,
     "metadata": {},
     "output_type": "execute_result"
    }
   ],
   "source": [
    "clf.load_weights(os.path.join(DATA_OUT_PATH, model_name, 'weights.h5'))\n",
    "clf.evaluate(test_input, test_label)"
   ]
  },
  {
   "cell_type": "code",
   "execution_count": null,
   "metadata": {},
   "outputs": [],
   "source": []
  }
 ],
 "metadata": {
  "kernelspec": {
   "display_name": "Python 3",
   "language": "python",
   "name": "python3"
  },
  "language_info": {
   "codemirror_mode": {
    "name": "ipython",
    "version": 3
   },
   "file_extension": ".py",
   "mimetype": "text/x-python",
   "name": "python",
   "nbconvert_exporter": "python",
   "pygments_lexer": "ipython3",
   "version": "3.8.3"
  }
 },
 "nbformat": 4,
 "nbformat_minor": 4
}
