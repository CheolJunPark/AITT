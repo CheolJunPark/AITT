{
 "cells": [
  {
   "cell_type": "code",
   "execution_count": 16,
   "metadata": {},
   "outputs": [],
   "source": [
    "import pandas as pd\n",
    "import requests as rq\n",
    "import time\n",
    "import os\n",
    "\n",
    "import selenium\n",
    "from selenium import webdriver\n",
    "from selenium.webdriver.common.keys import Keys\n",
    "from bs4 import BeautifulSoup as bs"
   ]
  },
  {
   "cell_type": "code",
   "execution_count": 41,
   "metadata": {},
   "outputs": [],
   "source": [
    "#에브리타임 자동 로그인\n",
    "user_id = '01089361043'\n",
    "user_pw = 'maseungik159!'\n",
    "\n",
    "options = webdriver.ChromeOptions()\n",
    "options.add_argument(\"no-sandbox\")\n",
    "options.add_argument(\"--disable-dev-shm-usage\")\n",
    "\n",
    "driver = webdriver.Chrome(executable_path='./chromedriver', options=options)\n",
    "driver.maximize_window()\n",
    "\n",
    "URL = 'https://everytime.kr'\n",
    "\n",
    "driver.get(URL)\n",
    "time.sleep(1)\n",
    "\n",
    "login_btn = driver.find_element_by_xpath('/html/body/aside/div[1]/a[2]')\n",
    "login_btn.click()\n",
    "time.sleep(1)\n",
    "\n",
    "input_id = driver.find_element_by_xpath('//*[@id=\"container\"]/form/p[1]/input').send_keys(user_id)\n",
    "input_pw = driver.find_element_by_xpath('//*[@id=\"container\"]/form/p[2]/input').send_keys(user_pw)\n",
    "\n",
    "time.sleep(1)\n",
    "\n",
    "enter_btn = driver.find_element_by_xpath('//*[@id=\"container\"]/form/p[3]/input')\n",
    "enter_btn.click()"
   ]
  },
  {
   "cell_type": "code",
   "execution_count": 44,
   "metadata": {},
   "outputs": [],
   "source": [
    "lec_URL = \"https://everytime.kr/lecture\"\n",
    "driver.get(lec_URL)\n",
    "\n",
    "body = driver.find_element_by_css_selector('body')\n",
    "for i in range(10):\n",
    "    for i in range(20):\n",
    "        body.send_keys(Keys.PAGE_DOWN)\n",
    "    time.sleep(0.25)"
   ]
  },
  {
   "cell_type": "code",
   "execution_count": 45,
   "metadata": {},
   "outputs": [],
   "source": [
    "board_html = driver.page_source\n",
    "board_bs = bs(board_html, 'html.parser')\n",
    "\n",
    "review_list = list()\n",
    "star_list = list()\n",
    "pos_mid_neg_list = list()\n",
    "\n",
    "review = board_bs.find_all(\"p\", {\"class\":\"text\"})\n",
    "for rev in review:\n",
    "    review_list.append(rev.text)\n",
    "    \n",
    "star = board_bs.find_all(\"span\", {\"class\":\"star\"})\n",
    "for s in star:\n",
    "    rating = str(s)[50:52]\n",
    "    if   rating == \"10\":\n",
    "        star_list.append(5)\n",
    "        pos_mid_neg_list.append(\"pos\")\n",
    "    elif rating == \"80\":\n",
    "        star_list.append(4)\n",
    "        pos_mid_neg_list.append(\"pos\")\n",
    "    elif rating == \"60\":\n",
    "        star_list.append(3)\n",
    "        pos_mid_neg_list.append(\"mid\")\n",
    "    elif rating == \"40\":\n",
    "        star_list.append(2)\n",
    "        pos_mid_neg_list.append(\"neg\")\n",
    "    elif rating == \"20\":\n",
    "        star_list.append(1)\n",
    "        pos_mid_neg_list.append(\"neg\")        "
   ]
  },
  {
   "cell_type": "code",
   "execution_count": 46,
   "metadata": {},
   "outputs": [],
   "source": [
    "lec_review = pd.DataFrame({\n",
    "    'review': review_list,\n",
    "    'star': star_list,\n",
    "    'pos_neg': pos_mid_neg_list})"
   ]
  },
  {
   "cell_type": "code",
   "execution_count": 47,
   "metadata": {},
   "outputs": [
    {
     "data": {
      "text/html": [
       "<div>\n",
       "<style scoped>\n",
       "    .dataframe tbody tr th:only-of-type {\n",
       "        vertical-align: middle;\n",
       "    }\n",
       "\n",
       "    .dataframe tbody tr th {\n",
       "        vertical-align: top;\n",
       "    }\n",
       "\n",
       "    .dataframe thead th {\n",
       "        text-align: right;\n",
       "    }\n",
       "</style>\n",
       "<table border=\"1\" class=\"dataframe\">\n",
       "  <thead>\n",
       "    <tr style=\"text-align: right;\">\n",
       "      <th></th>\n",
       "      <th>review</th>\n",
       "      <th>star</th>\n",
       "      <th>pos_neg</th>\n",
       "    </tr>\n",
       "  </thead>\n",
       "  <tbody>\n",
       "    <tr>\n",
       "      <th>0</th>\n",
       "      <td>흑역사 만든 강의…잊을 수 없을 거에요인터뷰 많이하고 (길게 말하는거 좋아함)조별로...</td>\n",
       "      <td>3</td>\n",
       "      <td>mid</td>\n",
       "    </tr>\n",
       "    <tr>\n",
       "      <th>1</th>\n",
       "      <td>저는 솔직히 관심이 없는 분야여서 그런 지 흥미가 없었네요ㅜ그래도 관심있으시면 괜찮을지도</td>\n",
       "      <td>3</td>\n",
       "      <td>mid</td>\n",
       "    </tr>\n",
       "    <tr>\n",
       "      <th>2</th>\n",
       "      <td>노트정리 잘할 자신있으면 추천. 과제가 한번 뿐이지만 분량이 5페이지임</td>\n",
       "      <td>3</td>\n",
       "      <td>mid</td>\n",
       "    </tr>\n",
       "    <tr>\n",
       "      <th>3</th>\n",
       "      <td>끝없는 계획서 수정으로 많이 지쳤음.. 교수님이 바쁘셔서 피드백이 제대로 안된적도 ...</td>\n",
       "      <td>3</td>\n",
       "      <td>mid</td>\n",
       "    </tr>\n",
       "    <tr>\n",
       "      <th>4</th>\n",
       "      <td>다신 듣고 싶지 않음...1. 아재개그(궁금하면 500원, 독수리 오형제 합체~~ ...</td>\n",
       "      <td>1</td>\n",
       "      <td>neg</td>\n",
       "    </tr>\n",
       "  </tbody>\n",
       "</table>\n",
       "</div>"
      ],
      "text/plain": [
       "                                              review  star pos_neg\n",
       "0  흑역사 만든 강의…잊을 수 없을 거에요인터뷰 많이하고 (길게 말하는거 좋아함)조별로...     3     mid\n",
       "1  저는 솔직히 관심이 없는 분야여서 그런 지 흥미가 없었네요ㅜ그래도 관심있으시면 괜찮을지도     3     mid\n",
       "2            노트정리 잘할 자신있으면 추천. 과제가 한번 뿐이지만 분량이 5페이지임     3     mid\n",
       "3  끝없는 계획서 수정으로 많이 지쳤음.. 교수님이 바쁘셔서 피드백이 제대로 안된적도 ...     3     mid\n",
       "4  다신 듣고 싶지 않음...1. 아재개그(궁금하면 500원, 독수리 오형제 합체~~ ...     1     neg"
      ]
     },
     "execution_count": 47,
     "metadata": {},
     "output_type": "execute_result"
    }
   ],
   "source": [
    "lec_review.head()"
   ]
  },
  {
   "cell_type": "code",
   "execution_count": 48,
   "metadata": {},
   "outputs": [],
   "source": [
    "if not os.path.exists('lec_review.csv'):\n",
    "    reviews.to_csv('lec_review.csv', index=False, mode='w', encoding='utf-8-sig')\n",
    "else:\n",
    "    reviews.to_csv('lec_review.csv', index=False, mode='a', encoding='utf-8-sig', header=False)"
   ]
  },
  {
   "cell_type": "code",
   "execution_count": 49,
   "metadata": {},
   "outputs": [
    {
     "data": {
      "text/plain": [
       "(800, 3)"
      ]
     },
     "execution_count": 49,
     "metadata": {},
     "output_type": "execute_result"
    }
   ],
   "source": [
    "data = pd.read_csv('./lec_review.csv')\n",
    "data.shape"
   ]
  },
  {
   "cell_type": "code",
   "execution_count": 50,
   "metadata": {},
   "outputs": [],
   "source": [
    "# 세종대학교, 영남대학교, 충남대학교, 계명대학교"
   ]
  },
  {
   "cell_type": "code",
   "execution_count": null,
   "metadata": {},
   "outputs": [],
   "source": []
  }
 ],
 "metadata": {
  "kernelspec": {
   "display_name": "Python 3",
   "language": "python",
   "name": "python3"
  },
  "language_info": {
   "codemirror_mode": {
    "name": "ipython",
    "version": 3
   },
   "file_extension": ".py",
   "mimetype": "text/x-python",
   "name": "python",
   "nbconvert_exporter": "python",
   "pygments_lexer": "ipython3",
   "version": "3.8.3"
  }
 },
 "nbformat": 4,
 "nbformat_minor": 4
}
